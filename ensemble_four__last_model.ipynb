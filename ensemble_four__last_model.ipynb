{
  "cells": [
    {
      "cell_type": "code",
      "execution_count": null,
      "id": "0bd74b94",
      "metadata": {
        "id": "0bd74b94"
      },
      "outputs": [],
      "source": [
        "#library load\n",
        "import pandas as pd\n",
        "import random\n",
        "import os\n",
        "import numpy as np\n",
        "from sklearn.preprocessing import LabelEncoder\n",
        "from sklearn.tree import DecisionTreeClassifier\n",
        "import pandas as pd\n",
        "import numpy as np\n",
        "from catboost import CatBoostClassifier\n",
        "from sklearn.model_selection import StratifiedKFold\n",
        "from sklearn.datasets import make_classification\n",
        "from sklearn.metrics import accuracy_score"
      ]
    },
    {
      "cell_type": "code",
      "execution_count": null,
      "id": "2b0b0e49",
      "metadata": {
        "id": "2b0b0e49"
      },
      "outputs": [],
      "source": [
        "#시드 설정\n",
        "def seed_everything(seed):\n",
        "    random.seed(seed)\n",
        "    os.environ['PYTHONHASHSEED'] = str(seed)    #환경변수 설정 | 해시값 계산\n",
        "    np.random.seed(seed)                        #동일한 시드 -> 항상 같은 난수\n",
        "seed_everything(37)                             #Seed 고정"
      ]
    },
    {
      "cell_type": "code",
      "execution_count": null,
      "id": "e17c1b77",
      "metadata": {
        "id": "e17c1b77"
      },
      "outputs": [],
      "source": [
        "#data load\n",
        "train_df = pd.read_csv('train.csv')\n",
        "test_df = pd.read_csv('test.csv')"
      ]
    },
    {
      "cell_type": "code",
      "execution_count": null,
      "id": "f4fd5109",
      "metadata": {
        "id": "f4fd5109"
      },
      "outputs": [],
      "source": [
        "#preprocessing\n",
        "train_x = train_df.drop(columns=['PRODUCT_ID', 'Y_Class', 'Y_Quality'])\n",
        "train_y = train_df['Y_Class']\n",
        "\n",
        "test_x = test_df.drop(columns=['PRODUCT_ID'])"
      ]
    },
    {
      "cell_type": "code",
      "execution_count": null,
      "id": "8ded2043",
      "metadata": {
        "id": "8ded2043",
        "outputId": "efae0223-1317-40ae-877b-620ebc43c81f"
      },
      "outputs": [
        {
          "name": "stdout",
          "output_type": "stream",
          "text": [
            "Done.\n"
          ]
        }
      ],
      "source": [
        "# qualitative to quantitative\n",
        "qual_col = ['LINE', 'PRODUCT_CODE']\n",
        "\n",
        "for i in qual_col:\n",
        "    le = LabelEncoder()  \n",
        "    le = le.fit(train_x[i])\n",
        "    train_x[i] = le.transform(train_x[i])\n",
        "    \n",
        "    for label in np.unique(test_x[i]): \n",
        "        if label not in le.classes_: \n",
        "            le.classes_ = np.append(le.classes_, label)\n",
        "    test_x[i] = le.transform(test_x[i]) \n",
        "print('Done.')"
      ]
    },
    {
      "cell_type": "code",
      "execution_count": null,
      "id": "cf94d328",
      "metadata": {
        "id": "cf94d328"
      },
      "outputs": [],
      "source": [
        "#결측치 제거\n",
        "train_x = train_x.fillna(0)\n",
        "test_x = test_x.fillna(0)"
      ]
    },
    {
      "cell_type": "code",
      "execution_count": null,
      "id": "ebc30b96",
      "metadata": {
        "id": "ebc30b96"
      },
      "outputs": [],
      "source": [
        "#변수 재설정\n",
        "X = train_x\n",
        "y = train_y\n",
        "X_test0 = test_x"
      ]
    },
    {
      "cell_type": "code",
      "execution_count": null,
      "id": "0d8f3032",
      "metadata": {
        "scrolled": true,
        "id": "0d8f3032"
      },
      "outputs": [],
      "source": [
        "# 데이터셋에서 0,1(적정),2 클래스 비율의 불균형 -> 비율에 맞게 k fold로 나눔 -> 오버피팅 방지를 통해 모델의 일반화 성능을 위함 \n",
        "# 5개의 \n",
        "skf = StratifiedKFold(n_splits=5, shuffle=True)\n",
        "cv_accuracy = []\n",
        "clf = CatBoostClassifier()\n",
        "\n",
        "for train_index, valid_index in skf.split(train_x, train_y):\n",
        "    X_train, X_valid = train_x.iloc[train_index], train_x.iloc[valid_index]\n",
        "    y_train, y_valid = train_y.iloc[train_index], train_y.iloc[valid_index]\n",
        "    "
      ]
    },
    {
      "cell_type": "code",
      "execution_count": null,
      "id": "fa461e40",
      "metadata": {
        "id": "fa461e40"
      },
      "outputs": [],
      "source": [
        "# Class 불균형 문제 해결\n",
        "# 오버샘플링 기법 : 소수 클래스(minority class) 샘플을 증가시켜 데이터셋의 클래스 균형을 맞추는 방법\n",
        "from imblearn.over_sampling import BorderlineSMOTE\n",
        "\n",
        "# X: feature 데이터, y: label 데이터\n",
        "smote = BorderlineSMOTE(random_state=42)\n",
        "X_resampled, y_resampled = smote.fit_resample(train_x, train_y)"
      ]
    },
    {
      "cell_type": "code",
      "execution_count": null,
      "id": "b9581404",
      "metadata": {
        "id": "b9581404"
      },
      "outputs": [],
      "source": [
        "#필요한 라이브러리 호출\n",
        "from sklearn.ensemble import VotingClassifier\n",
        "from xgboost import XGBClassifier\n",
        "from sklearn.ensemble import RandomForestClassifier\n",
        "from sklearn.model_selection import GridSearchCV\n",
        "from sklearn.metrics import accuracy_score\n",
        "\n",
        "# XGBoost 모델 생성\n",
        "xgb = XGBClassifier(max_depth=3, \n",
        "                  learning_rate=0.1, \n",
        "                  n_estimators=100, \n",
        "                  random_state=42)\n",
        "\n",
        "# Random Forest 모델 생성\n",
        "rf = RandomForestClassifier(n_estimators=100, random_state=42)\n",
        "\n",
        "# Voting 앙상블 모델 생성\n",
        "estimators = [('xgb', xgb), ('rf', rf)]\n",
        "ensemble = VotingClassifier(estimators=estimators, voting='soft')\n",
        "\n",
        "# Grid Search를 통한 최적 하이퍼파라미터 탐색\n",
        "params = {'xgb__max_depth': [3, 5, 7], \n",
        "          'xgb__learning_rate': [0.1, 0.01, 0.001], \n",
        "          'rf__n_estimators': [100, 200, 300]}\n",
        "\n",
        "grid = GridSearchCV(estimator=ensemble, \n",
        "                    param_grid=params, cv=5, \n",
        "                    scoring='accuracy', \n",
        "                    n_jobs=-1)\n",
        "\n",
        "grid.fit(X_resampled, y_resampled)\n",
        "\n",
        "# 최적 하이퍼파라미터로 모델 학습 및 예측\n",
        "ensemble = grid.best_estimator_\n",
        "ensemble.fit(X_resampled, y_resampled)\n",
        "y_pred = ensemble.predict(test_x)\n",
        "\n"
      ]
    },
    {
      "cell_type": "code",
      "execution_count": null,
      "id": "3b86d44a",
      "metadata": {
        "id": "3b86d44a"
      },
      "outputs": [],
      "source": [
        "submission = pd.read_csv('sample_submission.csv')"
      ]
    },
    {
      "cell_type": "code",
      "execution_count": null,
      "id": "e62ff99c",
      "metadata": {
        "id": "e62ff99c"
      },
      "outputs": [],
      "source": [
        "submission['Y_Class'] = y_pred"
      ]
    },
    {
      "cell_type": "code",
      "execution_count": null,
      "id": "6977fb95",
      "metadata": {
        "id": "6977fb95"
      },
      "outputs": [],
      "source": [
        "submission.to_csv('./rf_day_feature_three.csv', index=False)"
      ]
    },
    {
      "cell_type": "code",
      "execution_count": null,
      "id": "7ba71320",
      "metadata": {
        "id": "7ba71320"
      },
      "outputs": [],
      "source": [
        "submission = pd.read_csv('sample_submission.csv')"
      ]
    },
    {
      "cell_type": "code",
      "execution_count": null,
      "id": "7f2c9f03",
      "metadata": {
        "id": "7f2c9f03"
      },
      "outputs": [],
      "source": [
        "submission['Y_Class'] = y_pred"
      ]
    },
    {
      "cell_type": "code",
      "execution_count": null,
      "id": "f88553a1",
      "metadata": {
        "id": "f88553a1"
      },
      "outputs": [],
      "source": [
        "submission.to_csv('./ensemble_four.csv', index=False)"
      ]
    },
    {
      "cell_type": "code",
      "execution_count": null,
      "id": "2bb661e2",
      "metadata": {
        "id": "2bb661e2"
      },
      "outputs": [],
      "source": [
        "\"\"\"# OOB Score 출력\n",
        "print(\"OOB Score:\", ensemble.oob_score_)\"\"\""
      ]
    },
    {
      "cell_type": "code",
      "execution_count": null,
      "id": "8bb6b623",
      "metadata": {
        "id": "8bb6b623"
      },
      "outputs": [],
      "source": []
    }
  ],
  "metadata": {
    "kernelspec": {
      "display_name": "Python 3 (ipykernel)",
      "language": "python",
      "name": "python3"
    },
    "language_info": {
      "codemirror_mode": {
        "name": "ipython",
        "version": 3
      },
      "file_extension": ".py",
      "mimetype": "text/x-python",
      "name": "python",
      "nbconvert_exporter": "python",
      "pygments_lexer": "ipython3",
      "version": "3.9.13"
    },
    "colab": {
      "provenance": []
    }
  },
  "nbformat": 4,
  "nbformat_minor": 5
}